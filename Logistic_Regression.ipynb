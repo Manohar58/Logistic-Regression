{
  "nbformat": 4,
  "nbformat_minor": 0,
  "metadata": {
    "colab": {
      "name": "Logistic Regression.ipynb",
      "provenance": []
    },
    "kernelspec": {
      "name": "python3",
      "display_name": "Python 3"
    },
    "language_info": {
      "name": "python"
    }
  },
  "cells": [
    {
      "cell_type": "markdown",
      "metadata": {
        "id": "wciK5RT2r7RY"
      },
      "source": [
        "# **Logistic Regression**"
      ]
    },
    {
      "cell_type": "markdown",
      "metadata": {
        "id": "o22cO3pNrydR"
      },
      "source": [
        " The objective is to build a classifier that can predict whether an application will be admitted to the university (class 0) or not (class 1).\n",
        "\n",
        "Dataset details :The data consists of marks of two exams for 100 applicants. The target value takes on binary values 1,0. 1 means the applicant was admitted to the university whereas 0 means the applicant didn't get an admission. Download data from the following link.\n",
        "\n",
        "Dataset link:\n",
        "\n",
        "https://github.com/animesh-agarwal/Machine-Learning/blob/master/LogisticRegression/data/marks.txt\n",
        "\n",
        "(a) Calculate precision, recall, accuracy and f1 score.\n",
        "\n",
        "(b) Visualize the confusion matrix using Heatmap."
      ]
    },
    {
      "cell_type": "code",
      "metadata": {
        "id": "vS-tW5-XsBag"
      },
      "source": [
        "import pandas as pd\n",
        "from sklearn.model_selection import train_test_split\n",
        "from sklearn.linear_model import LogisticRegression\n",
        "from sklearn.metrics import accuracy_score\n",
        "from sklearn.metrics import recall_score\n",
        "from sklearn.metrics import precision_score\n",
        "from sklearn.metrics import f1_score\n",
        "from sklearn.metrics import classification_report, confusion_matrix\n",
        "import matplotlib.pyplot as plt"
      ],
      "execution_count": 18,
      "outputs": []
    },
    {
      "cell_type": "code",
      "metadata": {
        "colab": {
          "base_uri": "https://localhost:8080/",
          "height": 196
        },
        "id": "HflLX_6AsBWU",
        "outputId": "10c69396-c36d-4390-83fe-9f0deab4e76c"
      },
      "source": [
        "DF9 = pd.read_csv('https://raw.githubusercontent.com/animesh-agarwal/Machine-Learning/master/LogisticRegression/data/marks.txt')\n",
        "DF9.columns=['Exam_1_Marks','Exam_2_Marks','Class']\n",
        "DF9.head()"
      ],
      "execution_count": 19,
      "outputs": [
        {
          "output_type": "execute_result",
          "data": {
            "text/html": [
              "<div>\n",
              "<style scoped>\n",
              "    .dataframe tbody tr th:only-of-type {\n",
              "        vertical-align: middle;\n",
              "    }\n",
              "\n",
              "    .dataframe tbody tr th {\n",
              "        vertical-align: top;\n",
              "    }\n",
              "\n",
              "    .dataframe thead th {\n",
              "        text-align: right;\n",
              "    }\n",
              "</style>\n",
              "<table border=\"1\" class=\"dataframe\">\n",
              "  <thead>\n",
              "    <tr style=\"text-align: right;\">\n",
              "      <th></th>\n",
              "      <th>Exam_1_Marks</th>\n",
              "      <th>Exam_2_Marks</th>\n",
              "      <th>Class</th>\n",
              "    </tr>\n",
              "  </thead>\n",
              "  <tbody>\n",
              "    <tr>\n",
              "      <th>0</th>\n",
              "      <td>30.286711</td>\n",
              "      <td>43.894998</td>\n",
              "      <td>0</td>\n",
              "    </tr>\n",
              "    <tr>\n",
              "      <th>1</th>\n",
              "      <td>35.847409</td>\n",
              "      <td>72.902198</td>\n",
              "      <td>0</td>\n",
              "    </tr>\n",
              "    <tr>\n",
              "      <th>2</th>\n",
              "      <td>60.182599</td>\n",
              "      <td>86.308552</td>\n",
              "      <td>1</td>\n",
              "    </tr>\n",
              "    <tr>\n",
              "      <th>3</th>\n",
              "      <td>79.032736</td>\n",
              "      <td>75.344376</td>\n",
              "      <td>1</td>\n",
              "    </tr>\n",
              "    <tr>\n",
              "      <th>4</th>\n",
              "      <td>45.083277</td>\n",
              "      <td>56.316372</td>\n",
              "      <td>0</td>\n",
              "    </tr>\n",
              "  </tbody>\n",
              "</table>\n",
              "</div>"
            ],
            "text/plain": [
              "   Exam_1_Marks  Exam_2_Marks  Class\n",
              "0     30.286711     43.894998      0\n",
              "1     35.847409     72.902198      0\n",
              "2     60.182599     86.308552      1\n",
              "3     79.032736     75.344376      1\n",
              "4     45.083277     56.316372      0"
            ]
          },
          "metadata": {
            "tags": []
          },
          "execution_count": 19
        }
      ]
    },
    {
      "cell_type": "markdown",
      "metadata": {
        "id": "B2IR0K0gsJLk"
      },
      "source": [
        "**(a) precision, recall, accuracy and f1 score.**"
      ]
    },
    {
      "cell_type": "code",
      "metadata": {
        "colab": {
          "base_uri": "https://localhost:8080/"
        },
        "id": "PSf0HaOssBRS",
        "outputId": "6afa31af-03b6-4cda-9de3-40b65de7eea0"
      },
      "source": [
        "# input \n",
        "x = DF9.iloc[:, [0, 1]].values \n",
        "  \n",
        "# output \n",
        "y = DF9.iloc[:, 2].values \n",
        "\n",
        "# Training DF9\n",
        "xtrain, xtest, ytrain, ytest = train_test_split(x, y, random_state = 1) \n",
        "\n",
        "# Logistic Regression\n",
        "log_reg=LogisticRegression()\n",
        "log_reg.fit(xtrain,ytrain)\n",
        "\n",
        "# Making prediction\n",
        "ypred = log_reg.predict(xtest)\n",
        "\n",
        "# Accuracy, Recall, Precision and f1 Score\n",
        "\n",
        "print (\"Accuracy is : \", accuracy_score(ytest, ypred))\n",
        "print(\"Recall is : \", recall_score(ytest, ypred, average='binary'))\n",
        "print('Precision is: ', precision_score(ytest, ypred, labels=[1,2], average='micro'))\n",
        "print('f1 Score is : ',f1_score(ytest, ypred, average='binary')) "
      ],
      "execution_count": 20,
      "outputs": [
        {
          "output_type": "stream",
          "text": [
            "Accuracy is :  0.92\n",
            "Recall is :  1.0\n",
            "Precision is:  0.8666666666666667\n",
            "f1 Score is :  0.9285714285714286\n"
          ],
          "name": "stdout"
        }
      ]
    },
    {
      "cell_type": "markdown",
      "metadata": {
        "id": "h2rPYDQJsQRt"
      },
      "source": [
        "**(b) Visualize the confusion matrix using Heatmap.**"
      ]
    },
    {
      "cell_type": "code",
      "metadata": {
        "colab": {
          "base_uri": "https://localhost:8080/"
        },
        "id": "8EwK6X9rsBM9",
        "outputId": "429c8536-ead3-4272-b242-278274cdfdc9"
      },
      "source": [
        "#Confusion Matrix Using \n",
        "import seaborn as sn\n",
        "print(\"Confusion Matrix is:\")\n",
        "confusion_matrix = confusion_matrix(ytest, ypred) \n",
        "confusion_matrix"
      ],
      "execution_count": 21,
      "outputs": [
        {
          "output_type": "stream",
          "text": [
            "Confusion Matrix is:\n"
          ],
          "name": "stdout"
        },
        {
          "output_type": "execute_result",
          "data": {
            "text/plain": [
              "array([[10,  2],\n",
              "       [ 0, 13]])"
            ]
          },
          "metadata": {
            "tags": []
          },
          "execution_count": 21
        }
      ]
    },
    {
      "cell_type": "code",
      "metadata": {
        "colab": {
          "base_uri": "https://localhost:8080/",
          "height": 337
        },
        "id": "JIKXtn8XsVxo",
        "outputId": "39a2df2e-cb3e-45e2-a5d2-fef915ecd277"
      },
      "source": [
        "plt.figure(figsize=(5,5))\n",
        "sn.heatmap(confusion_matrix, annot=True)"
      ],
      "execution_count": 22,
      "outputs": [
        {
          "output_type": "execute_result",
          "data": {
            "text/plain": [
              "<matplotlib.axes._subplots.AxesSubplot at 0x7f48804eb7d0>"
            ]
          },
          "metadata": {
            "tags": []
          },
          "execution_count": 22
        },
        {
          "output_type": "display_data",
          "data": {
            "image/png": "[encoded data removed]",
            "text/plain": [
              "<Figure size 360x360 with 2 Axes>"
            ]
          },
          "metadata": {
            "tags": [],
            "needs_background": "light"
          }
        }
      ]
    }
  ]
}